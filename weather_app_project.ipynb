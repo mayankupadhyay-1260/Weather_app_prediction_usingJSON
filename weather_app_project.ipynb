{
 "cells": [
  {
   "cell_type": "code",
   "execution_count": null,
   "metadata": {},
   "outputs": [],
   "source": [
    "import tkinter as tk\n",
    "root=tk.Tk()\n",
    "root.title(\"Weather app\")\n",
    "root.geometry(\"330x330\")\n",
    "l=tk.Label(root,text=\"city name\")\n",
    "e=tk.Entry(root)\n",
    "\n",
    "def data():\n",
    "    import requests\n",
    "    city_name=e.get()\n",
    "    API_key=\"6f80490dfe7d0a64e9f9a3be0f17fab3\"\n",
    "    ws=requests.get(f\"https://api.openweathermap.org/data/2.5/weather?q={city_name}&units=imperial&appid={API_key}\")\n",
    "    if ws.json()['cod']=='404':\n",
    "        n0.config(text=f\"ERROR 404\\nCity name not found\")\n",
    "    else:\n",
    "        n1.config(text=f\"City name:{city_name}\")\n",
    "        country=ws.json()['sys']['country']\n",
    "        n2.config(text=f\"city is in {country}\")\n",
    "        \n",
    "        weather=ws.json()['weather'][0]['main'] \n",
    "        n3.config(text=f\"the weather of {city_name} is : {weather}\")\n",
    "        \n",
    "        temp=ws.json()['main']['temp'] \n",
    "        n4.config(text=f\"the tempurature of city{city_name} is : {temp}(in kelvin)\")  \n",
    "        \n",
    "        pressure=ws.json()['main']['pressure']\n",
    "        n5.config(text=f\"pressure is : {pressure} mb\")\n",
    "        \n",
    "        humidity=ws.json()['main']['humidity']\n",
    "        n6.config(text=f\"humidity in {city_name} is : {humidity} %\")\n",
    "        \n",
    "        wind=ws.json()['main'][\"speed\"]\n",
    "        n7.config(text=f\"high speed is : {wind} m/s\")\n",
    "        \n",
    "b=tk.Button(root,text='submit',command=data)\n",
    "l.grid(row=0,column=0)\n",
    "e.grid(row=0,column=1)\n",
    "b.grid(row=2,column=1)\n",
    "n=tk.Label(root,text=\"name:\")        \n",
    "n.grid(row=3,column=1)\n",
    "n0=tk.Label(root)        \n",
    "n0.grid(row=3,column=1)\n",
    "n1=tk.Label(root)        \n",
    "n1.grid(row=4,column=1) \n",
    "n2=tk.Label(root)        \n",
    "n2.grid(row=5,column=1)\n",
    "n3=tk.Label(root)        \n",
    "n3.grid(row=6,column=1)\n",
    "n4=tk.Label(root)        \n",
    "n4.grid(row=7,column=1)\n",
    "n5=tk.Label(root)        \n",
    "n5.grid(row=8,column=1)\n",
    "n6=tk.Label(root)        \n",
    "n6.grid(row=9,column=1)\n",
    "n7=tk.Label(root)        \n",
    "n7.grid(row=10,column=1)\n",
    "\n",
    "root.mainloop()\n"
   ]
  },
  {
   "cell_type": "code",
   "execution_count": null,
   "metadata": {},
   "outputs": [],
   "source": [
    "print('enter a letter between a-z')\n",
    "player1= str(input)\n",
    "\n"
   ]
  }
 ],
 "metadata": {
  "kernelspec": {
   "display_name": "Python 3",
   "language": "python",
   "name": "python3"
  },
  "language_info": {
   "codemirror_mode": {
    "name": "ipython",
    "version": 3
   },
   "file_extension": ".py",
   "mimetype": "text/x-python",
   "name": "python",
   "nbconvert_exporter": "python",
   "pygments_lexer": "ipython3",
   "version": "3.12.4"
  },
  "orig_nbformat": 4
 },
 "nbformat": 4,
 "nbformat_minor": 2
}
